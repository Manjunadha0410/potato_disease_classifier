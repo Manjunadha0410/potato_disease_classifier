{
 "cells": [
  {
   "cell_type": "code",
   "execution_count": 1,
   "id": "0b979da6",
   "metadata": {},
   "outputs": [],
   "source": [
    "import tensorflow as tf\n",
    "import matplotlib.pyplot as plt\n",
    "from tensorflow.keras import models,layers"
   ]
  },
  {
   "cell_type": "code",
   "execution_count": 2,
   "id": "0c5380e0",
   "metadata": {},
   "outputs": [
    {
     "name": "stdout",
     "output_type": "stream",
     "text": [
      "Found 2152 files belonging to 3 classes.\n"
     ]
    }
   ],
   "source": [
    "tenserflowdataset=tf.keras.preprocessing.image_dataset_from_directory(\n",
    "    \"PlantVillage\",\n",
    "    shuffle=True, \n",
    "    image_size= (256,256), \n",
    "    batch_size=32\n",
    "       )"
   ]
  },
  {
   "cell_type": "code",
   "execution_count": 4,
   "id": "00a84301",
   "metadata": {},
   "outputs": [
    {
     "data": {
      "text/plain": [
       "['Potato___Early_blight', 'Potato___Late_blight', 'Potato___healthy']"
      ]
     },
     "execution_count": 4,
     "metadata": {},
     "output_type": "execute_result"
    }
   ],
   "source": [
    "classnames= tenserflowdataset.class_names\n",
    "classnames"
   ]
  },
  {
   "cell_type": "code",
   "execution_count": 12,
   "id": "29ad44ad",
   "metadata": {},
   "outputs": [],
   "source": [
    "def dataset_partitions_using_tf(dataset, train_frac=0.7, val_frac=0.15, test_frac=0.15, shuffle=True, shuffle_sz=9520):\n",
    "    assert (train_frac + test_frac + val_frac) == 1\n",
    "    \n",
    "    dataset_sz = len(dataset)\n",
    "    \n",
    "    if shuffle:\n",
    "        dataset = dataset.shuffle(shuffle_sz)\n",
    "    \n",
    "    train_sz = int(train_frac * dataset_sz)\n",
    "    test_sz = int(test_frac * dataset_sz)\n",
    "    \n",
    "    train_ds = dataset.take(train_sz)    \n",
    "    test_ds = dataset.skip(train_sz).take(test_sz)\n",
    "    val_ds = dataset.skip(train_sz).skip(test_sz)\n",
    "    \n",
    "    return train_ds, test_ds , val_ds"
   ]
  },
  {
   "cell_type": "code",
   "execution_count": 13,
   "id": "9ac1a18f",
   "metadata": {},
   "outputs": [],
   "source": [
    "train_ds, test_ds, val_ds = dataset_partitions_using_tf(tenserflowdataset)"
   ]
  },
  {
   "cell_type": "code",
   "execution_count": 16,
   "id": "08096bcf",
   "metadata": {},
   "outputs": [],
   "source": [
    "resz_and_resc = tf.keras.Sequential([\n",
    "  layers.experimental.preprocessing.Resizing(256, 256),\n",
    "  layers.experimental.preprocessing.Rescaling(1./255),\n",
    "]) "
   ]
  },
  {
   "cell_type": "code",
   "execution_count": 17,
   "id": "e6774cbe",
   "metadata": {},
   "outputs": [
    {
     "name": "stdout",
     "output_type": "stream",
     "text": [
      "WARNING:tensorflow:Using a while_loop for converting RngReadAndSkip cause there is no registered converter for this op.\n",
      "WARNING:tensorflow:Using a while_loop for converting Bitcast cause there is no registered converter for this op.\n",
      "WARNING:tensorflow:Using a while_loop for converting Bitcast cause there is no registered converter for this op.\n",
      "WARNING:tensorflow:Using a while_loop for converting StatelessRandomUniformV2 cause there is no registered converter for this op.\n",
      "WARNING:tensorflow:Using a while_loop for converting ImageProjectiveTransformV3 cause there is no registered converter for this op.\n",
      "WARNING:tensorflow:Using a while_loop for converting RngReadAndSkip cause there is no registered converter for this op.\n",
      "WARNING:tensorflow:Using a while_loop for converting Bitcast cause there is no registered converter for this op.\n",
      "WARNING:tensorflow:Using a while_loop for converting Bitcast cause there is no registered converter for this op.\n",
      "WARNING:tensorflow:Using a while_loop for converting StatelessRandomUniformV2 cause there is no registered converter for this op.\n",
      "WARNING:tensorflow:Using a while_loop for converting ImageProjectiveTransformV3 cause there is no registered converter for this op.\n"
     ]
    }
   ],
   "source": [
    "data_aug = tf.keras.Sequential([\n",
    "  layers.experimental.preprocessing.RandomFlip(\"horizontal_and_vertical\"),\n",
    "  layers.experimental.preprocessing.RandomRotation(0.2),\n",
    "])\n",
    "train_ds = train_ds.map(\n",
    "    lambda x, y: (data_aug(x, training=True), y)\n",
    ")"
   ]
  },
  {
   "cell_type": "code",
   "execution_count": 21,
   "id": "f9ab535c",
   "metadata": {},
   "outputs": [],
   "source": []
  },
  {
   "cell_type": "code",
   "execution_count": 19,
   "id": "60a0d7fc",
   "metadata": {},
   "outputs": [],
   "source": [
    "input_shape = (32, 256,256, 3)\n",
    "n_classes = 3\n",
    "\n",
    "model = models.Sequential([\n",
    "    resz_and_resc,\n",
    "    layers.Conv2D(32, kernel_size = (3,3), activation='relu', input_shape=input_shape),\n",
    "    layers.MaxPooling2D((2, 2)),\n",
    "    layers.Conv2D(64,  kernel_size = (3,3), activation='relu'),\n",
    "    layers.MaxPooling2D((2, 2)),\n",
    "    layers.Conv2D(64, (3, 3), activation='relu'),\n",
    "    layers.MaxPooling2D((2, 2)),\n",
    "    layers.Conv2D(64, (3, 3), activation='relu'),\n",
    "    layers.MaxPooling2D((2, 2)),\n",
    "    layers.Flatten(),\n",
    "    layers.Dense(64, activation='relu'),\n",
    "    layers.Dense(n_classes, activation='softmax'),\n",
    "])\n",
    "\n",
    "model.build(input_shape=input_shape)"
   ]
  },
  {
   "cell_type": "code",
   "execution_count": 22,
   "id": "0e5b5e17",
   "metadata": {},
   "outputs": [],
   "source": [
    "model.compile(\n",
    "    optimizer='adam',\n",
    "    loss=tf.keras.losses.SparseCategoricalCrossentropy(from_logits=False),\n",
    "    metrics=['accuracy']\n",
    ")"
   ]
  },
  {
   "cell_type": "code",
   "execution_count": 23,
   "id": "ad45ba2e",
   "metadata": {},
   "outputs": [
    {
     "name": "stdout",
     "output_type": "stream",
     "text": [
      "Epoch 1/20\n",
      "47/47 [==============================] - 28s 571ms/step - loss: 0.1497 - accuracy: 0.9480 - val_loss: 0.2277 - val_accuracy: 0.9233\n",
      "Epoch 2/20\n",
      "47/47 [==============================] - 27s 583ms/step - loss: 0.0645 - accuracy: 0.9757 - val_loss: 0.7201 - val_accuracy: 0.8153\n",
      "Epoch 3/20\n",
      "47/47 [==============================] - 27s 574ms/step - loss: 0.0829 - accuracy: 0.9723 - val_loss: 0.1594 - val_accuracy: 0.9489\n",
      "Epoch 4/20\n",
      "47/47 [==============================] - 28s 584ms/step - loss: 0.0439 - accuracy: 0.9840 - val_loss: 0.1405 - val_accuracy: 0.9421\n",
      "Epoch 5/20\n",
      "47/47 [==============================] - 27s 572ms/step - loss: 0.0595 - accuracy: 0.9804 - val_loss: 0.2437 - val_accuracy: 0.9055\n",
      "Epoch 6/20\n",
      "47/47 [==============================] - 27s 574ms/step - loss: 0.0421 - accuracy: 0.9831 - val_loss: 0.3716 - val_accuracy: 0.9119\n",
      "Epoch 7/20\n",
      "47/47 [==============================] - 27s 571ms/step - loss: 0.1077 - accuracy: 0.9534 - val_loss: 0.1680 - val_accuracy: 0.9299\n",
      "Epoch 8/20\n",
      "47/47 [==============================] - 29s 605ms/step - loss: 0.0606 - accuracy: 0.9797 - val_loss: 0.2434 - val_accuracy: 0.9375\n",
      "Epoch 9/20\n",
      "47/47 [==============================] - 29s 603ms/step - loss: 0.0427 - accuracy: 0.9824 - val_loss: 0.0788 - val_accuracy: 0.9716\n",
      "Epoch 10/20\n",
      "47/47 [==============================] - 29s 606ms/step - loss: 0.0436 - accuracy: 0.9867 - val_loss: 0.3014 - val_accuracy: 0.9176\n",
      "Epoch 11/20\n",
      "47/47 [==============================] - 28s 583ms/step - loss: 0.0971 - accuracy: 0.9661 - val_loss: 0.1595 - val_accuracy: 0.9460\n",
      "Epoch 12/20\n",
      "47/47 [==============================] - 28s 584ms/step - loss: 0.1420 - accuracy: 0.9508 - val_loss: 0.3085 - val_accuracy: 0.8963\n",
      "Epoch 13/20\n",
      "47/47 [==============================] - 29s 601ms/step - loss: 0.0646 - accuracy: 0.9834 - val_loss: 0.1418 - val_accuracy: 0.9460\n",
      "Epoch 14/20\n",
      "47/47 [==============================] - 28s 594ms/step - loss: 0.0618 - accuracy: 0.9791 - val_loss: 0.0717 - val_accuracy: 0.9830\n",
      "Epoch 15/20\n",
      "47/47 [==============================] - 28s 594ms/step - loss: 0.0463 - accuracy: 0.9872 - val_loss: 0.2266 - val_accuracy: 0.9148\n",
      "Epoch 16/20\n",
      "47/47 [==============================] - 28s 584ms/step - loss: 0.0733 - accuracy: 0.9716 - val_loss: 0.1235 - val_accuracy: 0.9602\n",
      "Epoch 17/20\n",
      "47/47 [==============================] - 28s 583ms/step - loss: 0.0573 - accuracy: 0.9791 - val_loss: 0.2479 - val_accuracy: 0.9233\n",
      "Epoch 18/20\n",
      "47/47 [==============================] - 28s 575ms/step - loss: 0.0487 - accuracy: 0.9838 - val_loss: 0.9093 - val_accuracy: 0.8068\n",
      "Epoch 19/20\n",
      "47/47 [==============================] - 28s 580ms/step - loss: 0.0543 - accuracy: 0.9777 - val_loss: 0.1346 - val_accuracy: 0.9489\n",
      "Epoch 20/20\n",
      "47/47 [==============================] - 27s 572ms/step - loss: 0.0379 - accuracy: 0.9865 - val_loss: 0.1721 - val_accuracy: 0.9432\n"
     ]
    }
   ],
   "source": [
    "history = model.fit(\n",
    "    train_ds,\n",
    "    batch_size=32,\n",
    "    validation_data=val_ds,\n",
    "    verbose=1,\n",
    "    epochs=20,\n",
    ")"
   ]
  },
  {
   "cell_type": "code",
   "execution_count": 24,
   "id": "eabdab55",
   "metadata": {},
   "outputs": [
    {
     "name": "stdout",
     "output_type": "stream",
     "text": [
      "10/10 [==============================] - 2s 136ms/step - loss: 0.1139 - accuracy: 0.9531\n"
     ]
    }
   ],
   "source": [
    "scores = model.evaluate(test_ds)"
   ]
  },
  {
   "cell_type": "code",
   "execution_count": null,
   "id": "69a8ac18",
   "metadata": {},
   "outputs": [],
   "source": []
  }
 ],
 "metadata": {
  "kernelspec": {
   "display_name": "Python 3 (ipykernel)",
   "language": "python",
   "name": "python3"
  },
  "language_info": {
   "codemirror_mode": {
    "name": "ipython",
    "version": 3
   },
   "file_extension": ".py",
   "mimetype": "text/x-python",
   "name": "python",
   "nbconvert_exporter": "python",
   "pygments_lexer": "ipython3",
   "version": "3.10.9"
  }
 },
 "nbformat": 4,
 "nbformat_minor": 5
}
